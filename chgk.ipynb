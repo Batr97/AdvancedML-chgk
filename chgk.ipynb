{
 "cells": [
  {
   "cell_type": "code",
   "execution_count": 19,
   "id": "2f868010-bd66-4620-9b72-055684efbc53",
   "metadata": {},
   "outputs": [],
   "source": [
    "import pickle \n",
    "import zipfile\n",
    "import pandas as pd\n",
    "import numpy as np \n",
    "import datetime\n",
    "import pytz\n",
    "from sklearn.preprocessing import OneHotEncoder\n",
    "from sklearn.linear_model import LogisticRegression\n"
   ]
  },
  {
   "cell_type": "code",
   "execution_count": null,
   "id": "c08dbf74-11f6-4fe0-adba-8b764b433f65",
   "metadata": {},
   "outputs": [],
   "source": [
    "# with zipfile.ZipFile('chgk.zip', 'r') as zip_ref:\n",
    "#     zip_ref.extractall('./')"
   ]
  },
  {
   "cell_type": "markdown",
   "id": "53a57df7-8b9a-4f52-81d9-9a603102b43f",
   "metadata": {},
   "source": [
    "### Прочитайте и проанализируйте данные, выберите турниры, в которых есть данные о составах команд и повопросных результатах (поле mask в results.pkl). Для унификации предлагаю:\n",
    "- взять в тренировочный набор турниры с dateStart из 2019 года; \n",
    "- в тестовый — турниры с dateStart из 2020 года.\n"
   ]
  },
  {
   "cell_type": "code",
   "execution_count": 2,
   "id": "4fc41440-713e-4fe3-9986-c9a40d62c238",
   "metadata": {},
   "outputs": [],
   "source": [
    "with open('tournaments.pkl', 'rb') as fp:\n",
    "    tour = pickle.load(fp)\n",
    "\n",
    "with open('results.pkl', 'rb') as fp:\n",
    "    res = pickle.load(fp)\n",
    "\n",
    "with open('players.pkl', 'rb') as fp:\n",
    "    pl = pickle.load(fp)\n",
    "# players = pd.DataFrame.from_dict(a, orient='index')"
   ]
  },
  {
   "cell_type": "code",
   "execution_count": 3,
   "id": "44ad53f9-d725-485d-b5c3-5c65ff33a54f",
   "metadata": {},
   "outputs": [],
   "source": [
    "df_pl = pd.DataFrame.from_dict(pl, orient='index')\n",
    "df_tour = pd.DataFrame.from_dict(tour, orient='index')\n",
    "df_res = pd.DataFrame.from_dict(res, orient='index')"
   ]
  },
  {
   "cell_type": "code",
   "execution_count": 4,
   "id": "188dd5e5-5f78-4a02-8b8b-9155d62ccc1f",
   "metadata": {},
   "outputs": [],
   "source": [
    "year = []\n",
    "for i in range(len(df_tour)):\n",
    "    year.append(datetime.datetime.fromisoformat(df_tour['dateStart'].iloc[i]).astimezone(pytz.timezone('Europe/Moscow')).year)\n",
    "df_tour['year'] = year"
   ]
  },
  {
   "cell_type": "code",
   "execution_count": 5,
   "id": "b56297db-24e8-48f0-87f5-df7915ea0881",
   "metadata": {},
   "outputs": [],
   "source": [
    "df_tour_train = df_tour[df_tour['year']==2019]\n",
    "df_tour_test = df_tour[df_tour['year']==2020]"
   ]
  },
  {
   "cell_type": "code",
   "execution_count": 6,
   "id": "9bb1846c-c193-4570-ad7c-a4ef88659e89",
   "metadata": {},
   "outputs": [],
   "source": [
    "def res_mask(ids):\n",
    "    data = []\n",
    "    for id in ids:\n",
    "        for t in res[id]:\n",
    "            if ('mask' not in t) or (t['mask'] is None):\n",
    "                continue\n",
    "\n",
    "            position = t['position']\n",
    "                    \n",
    "            for pl in t['teamMembers']:\n",
    "                pl = pl['player']\n",
    "                data.append({\n",
    "                    'tournament_id': id,\n",
    "                    'team_id': t['team']['id'],\n",
    "                    'team_name': t['team']['name'],\n",
    "                    'player_id': pl['id'],\n",
    "                    'team_position': position,\n",
    "                    'player_name': f\"{pl['surname']} {pl['name']} {pl['patronymic']}\",\n",
    "                    'mask': t['mask'],\n",
    "                    'mask_len': len(t['mask'])\n",
    "                })\n",
    "    df = pd.DataFrame(data)\n",
    "\n",
    "    return df\n",
    "\n",
    "res_train = res_mask(df_tour_train.index)\n",
    "res_test = res_mask(df_tour_test.index)"
   ]
  },
  {
   "cell_type": "code",
   "execution_count": 12,
   "id": "9d60453d-f03c-4a41-88fa-d3d084380c42",
   "metadata": {},
   "outputs": [],
   "source": [
    "def filtrate(df):\n",
    "    res_dict = {}\n",
    "    for i, tournament in df.iterrows():\n",
    "        existing_teams = []\n",
    "        # for participant in res_train.iloc[i, :]:\n",
    "        #     valid_participants.append(participant)\n",
    "        # if valid_participants:\n",
    "        #     valid_train_results[i] = valid_participants\n",
    "        for team in res[i]:\n",
    "            if team:\n",
    "                if 'mask' in team and team['mask']:\n",
    "                    if 'teamMembers' in team and team['teamMembers']:\n",
    "                        existing_teams.append(team)\n",
    "        if existing_teams:\n",
    "            res_dict[i] = existing_teams\n",
    "    return res_dict\n",
    "    \n",
    "res_train_dict = filtrate(df_tour_train)\n",
    "res_test_dict = filtrate(df_tour_test)"
   ]
  },
  {
   "cell_type": "code",
   "execution_count": 14,
   "id": "770d6d0a-17af-4b2f-985f-b6c5304592ef",
   "metadata": {},
   "outputs": [],
   "source": [
    "def to_scv(df_name, target_name, res):\n",
    "    trainx_f = open(f'{df_name}.csv', 'w')\n",
    "    trainx_f.write('player_id,tournament_id,question_id\\n')\n",
    "\n",
    "    trainy_f = open(f'{target_name}.csv', 'w')\n",
    "    trainy_f.write('answer\\n')\n",
    "\n",
    "    for tour_id in res:\n",
    "        tournament = res[tour_id]\n",
    "        for team in tournament:\n",
    "            team_id = team['team']['id']\n",
    "            for teammate in team['teamMembers']:\n",
    "                pl_id = teammate['player']['id']\n",
    "                for qu_id in range(1, len(team['mask']) + 1):\n",
    "                    trainx_f.write(str(pl_id) + ',' + str(tour_id) + ',' + str(qu_id) + '\\n')\n",
    "                    trainy_f.write(team['mask'][qu_id - 1] + '\\n')\n",
    "\n",
    "    trainx_f.close()\n",
    "    trainy_f.close()\n",
    "    \n",
    "to_scv('x_train', 'y_train', res_train_dict)\n",
    "to_scv('x_test', 'y_test', res_test_dict)"
   ]
  },
  {
   "cell_type": "markdown",
   "id": "a6054ffd-d738-4253-94f6-67e5e39329a6",
   "metadata": {},
   "source": [
    "### Постройте baseline-модель на основе линейной или логистической регрессии, которая будет обучать рейтинг-лист игроков. Замечания и подсказки:\n",
    "- повопросные результаты — это фактически результаты броска монетки, и их предсказание скорее всего имеет отношение к бинарной классификации;\n",
    "- в разных турнирах вопросы совсем разного уровня сложности, поэтому модель должна это учитывать; скорее всего, модель должна будет явно обучать не только силу каждого игрока, но и сложность каждого вопроса;\n",
    "- для baseline-модели можно забыть о командах и считать, что повопросные результаты команды просто относятся к каждому из её игроков.\n"
   ]
  },
  {
   "cell_type": "code",
   "execution_count": 15,
   "id": "06fe00cd-00aa-439e-b809-2bda83b59d46",
   "metadata": {},
   "outputs": [
    {
     "name": "stderr",
     "output_type": "stream",
     "text": [
      "/tmp/ipykernel_21895/2421535835.py:2: DtypeWarning: Columns (0) have mixed types. Specify dtype option on import or set low_memory=False.\n",
      "  target = pd.read_csv('y_train.csv')\n"
     ]
    }
   ],
   "source": [
    "df = pd.read_csv('x_train.csv')\n",
    "target = pd.read_csv('y_train.csv')"
   ]
  },
  {
   "cell_type": "code",
   "execution_count": 27,
   "id": "e137ef5f-a110-4af9-a996-c3b2a8691d68",
   "metadata": {},
   "outputs": [
    {
     "name": "stderr",
     "output_type": "stream",
     "text": [
      "/tmp/ipykernel_21895/183924037.py:2: DtypeWarning: Columns (0) have mixed types. Specify dtype option on import or set low_memory=False.\n",
      "  target_test = pd.read_csv('y_test.csv')\n"
     ]
    }
   ],
   "source": [
    "df_test = pd.read_csv('x_test.csv')\n",
    "target_test = pd.read_csv('y_test.csv')"
   ]
  },
  {
   "cell_type": "code",
   "execution_count": 30,
   "id": "fcfd629f-346f-4892-9709-6c5709857dec",
   "metadata": {},
   "outputs": [
    {
     "data": {
      "text/plain": [
       "(173,)"
      ]
     },
     "execution_count": 30,
     "metadata": {},
     "output_type": "execute_result"
    }
   ],
   "source": [
    "df_test.tournament_id.unique().shape"
   ]
  },
  {
   "cell_type": "code",
   "execution_count": 17,
   "id": "49f4f7d7-fd52-4568-b489-955d77d7c88e",
   "metadata": {},
   "outputs": [
    {
     "data": {
      "text/plain": [
       "(59101,)"
      ]
     },
     "execution_count": 17,
     "metadata": {},
     "output_type": "execute_result"
    }
   ],
   "source": [
    "enc = OneHotEncoder(handle_unknown='ignore')\n",
    "enc.fit(df)\n",
    "enc.categories_[0].shape"
   ]
  },
  {
   "cell_type": "code",
   "execution_count": 18,
   "id": "344da9cb-1eeb-4d52-ba37-f8876441ef89",
   "metadata": {},
   "outputs": [],
   "source": [
    "targets = []\n",
    "\n",
    "for ans in target['answer']:\n",
    "    if ans == '?' or ans == 'X': \n",
    "        targets.append(np.random.randint(0, 1))\n",
    "    else:\n",
    "        targets.append(int(ans))\n",
    "\n",
    "targets = np.array(targets)"
   ]
  },
  {
   "cell_type": "code",
   "execution_count": 24,
   "id": "5bdcd98e-51e5-40f8-9fe4-d0e902f53d78",
   "metadata": {},
   "outputs": [
    {
     "name": "stderr",
     "output_type": "stream",
     "text": [
      "/home/b_gainitdinov/anaconda3/lib/python3.9/site-packages/sklearn/linear_model/_logistic.py:1523: UserWarning: 'n_jobs' > 1 does not have any effect when 'solver' is set to 'liblinear'. Got 'n_jobs' = 40.\n",
      "  warnings.warn(\n"
     ]
    },
    {
     "data": {
      "text/plain": [
       "LogisticRegression(C=10, n_jobs=-1, solver='liblinear')"
      ]
     },
     "execution_count": 24,
     "metadata": {},
     "output_type": "execute_result"
    }
   ],
   "source": [
    "LogReg = LogisticRegression(solver='liblinear', C=10, n_jobs=-1)\n",
    "LogReg.fit(enc.transform(df), targets)"
   ]
  },
  {
   "cell_type": "code",
   "execution_count": 32,
   "id": "32cd2a33-1caf-4a42-a5c8-cd0ea410198e",
   "metadata": {},
   "outputs": [],
   "source": [
    "y_test_predict_proba = [probas[0] for probas in LogReg.predict_proba(enc.transform(df_test))]"
   ]
  },
  {
   "cell_type": "code",
   "execution_count": 61,
   "id": "d624a4ce-24a0-44c5-8eb3-b58719fb15f9",
   "metadata": {},
   "outputs": [
    {
     "data": {
      "text/plain": [
       "<21014267x60276 sparse matrix of type '<class 'numpy.float64'>'\n",
       "\twith 63042801 stored elements in Compressed Sparse Row format>"
      ]
     },
     "execution_count": 61,
     "metadata": {},
     "output_type": "execute_result"
    }
   ],
   "source": [
    "LogReg.coef_[0].shape\n",
    "enc.transform(df)#.player_id.unique().shape"
   ]
  },
  {
   "cell_type": "markdown",
   "id": "749536c3-452a-45b9-9bb1-3998cf6c3ee3",
   "metadata": {},
   "source": [
    "#### Качество рейтинг-системы оценивается качеством предсказаний результатов турниров. Но сами повопросные результаты наши модели предсказывать вряд ли смогут, ведь неизвестно, насколько сложными окажутся вопросы в будущих турнирах; да и не нужны эти предсказания сами по себе. Поэтому:\n",
    "- предложите способ предсказать результаты нового турнира с известными составами, но неизвестными вопросами, в виде ранжирования команд;\n",
    "- в качестве метрики качества на тестовом наборе давайте считать ранговые корреляции Спирмена и Кендалла (их можно взять в пакете scipy) между реальным ранжированием в результатах турнира и предсказанным моделью, усреднённые по тестовому множеству турниров."
   ]
  },
  {
   "cell_type": "code",
   "execution_count": 62,
   "id": "1250df6b-5926-491c-a0c6-55329a88a8ae",
   "metadata": {},
   "outputs": [],
   "source": [
    "# отранжируем участников\n",
    "players = df.player_id.unique()\n",
    "rating = pd.DataFrame({'id': players})\n",
    "rating['skill'] = LogReg.coef_[0][:len(players)]\n",
    "rating = rating.sort_values(by='skill', ascending=False)\n",
    "rating = pd.merge(rating, df_pl, on=\"id\").set_index('id')"
   ]
  },
  {
   "cell_type": "code",
   "execution_count": 33,
   "id": "8723854c-82cd-402d-8d16-86a4ee0fe1b8",
   "metadata": {},
   "outputs": [],
   "source": [
    "\n",
    "def sum_score(mask):\n",
    "    score = 0\n",
    "    for ans in mask:\n",
    "        if ans == '?' or ans == 'X':\n",
    "            continue\n",
    "        score += int(ans)\n",
    "    return score"
   ]
  },
  {
   "cell_type": "code",
   "execution_count": 39,
   "id": "061a4a98-e8c6-4a43-bca6-950d57a6bd6b",
   "metadata": {},
   "outputs": [],
   "source": [
    "# посчитаем ранговые корреляции Спирмена и Кендалла\n",
    "true_ratings = []\n",
    "pred_ratings = []\n",
    "\n",
    "k = 0\n",
    "for tour_id in res_test_dict:\n",
    "    tournament = res_test_dict[tour_id]\n",
    "\n",
    "    true_rate = []\n",
    "    pred_rate = []\n",
    "    for team in tournament:\n",
    "        mask_true = team['mask']\n",
    "        correct_ans = sum_score(mask_true)\n",
    "\n",
    "        predict_proba = [1 for _ in range(len(mask_true))]\n",
    "        for player in team['teamMembers']:\n",
    "            for qu_id in range(len(mask_true)):\n",
    "                predict_proba[qu_id] *= y_test_predict_proba[k]\n",
    "                k += 1\n",
    "\n",
    "        true_rate.append((team['team']['id'], correct_ans / len(mask_true)))\n",
    "        pred_rate.append((team['team']['id'], np.prod(predict_proba)))\n",
    "\n",
    "    true_ratings.append(true_rate)\n",
    "    pred_ratings.append(pred_rate)"
   ]
  },
  {
   "cell_type": "code",
   "execution_count": 79,
   "id": "0e6c35ac-ee57-4a5f-9400-18b499a1c0d5",
   "metadata": {},
   "outputs": [],
   "source": [
    "from scipy.stats import spearmanr, kendalltau\n",
    "\n",
    "\n",
    "spearmanr_coefs = []\n",
    "kendalltau_coefs = []\n",
    "\n",
    "for i in range(len(pred_ratings)):\n",
    "    true_rating = true_ratings[i]\n",
    "    true_rating.sort(key=lambda x:x[1])\n",
    "    true_rating = [i[0] for i in true_rating]\n",
    "    pred_rating = pred_ratings[i]\n",
    "    pred_rating.sort(key=lambda x:x[1])\n",
    "    pred_rating = [i[0] for i in pred_rating]\n",
    "    coef, p = spearmanr(true_rating, pred_rating)\n",
    "    spearmanr_coefs.append(abs(coef))\n",
    "    coef, p = kendalltau(real_tournament_rating, predict_tournament_rating)\n",
    "    kendalltau_coefs.append(abs(coef))\n",
    "spearmanr_coefs = np.array(spearmanr_coefs)\n",
    "spearmanr_coefs = spearmanr_coefs[~np.isnan(spearmanr_coefs)]\n",
    "kendalltau_coefs = np.array(kendalltau_coefs)\n",
    "kendalltau_coefs = kendalltau_coefs[~np.isnan(kendalltau_coefs)]"
   ]
  },
  {
   "cell_type": "code",
   "execution_count": 84,
   "id": "2bea2e7f-889f-4a0f-a156-4e6ba7551bd3",
   "metadata": {},
   "outputs": [
    {
     "name": "stdout",
     "output_type": "stream",
     "text": [
      "корреляция Спирмана : 0.18190958595599918\n",
      "корреляция Кендалла : 0.047619047619047616\n"
     ]
    }
   ],
   "source": [
    "print(f'корреляция Спирмана : {np.array(spearmanr_coefs).mean()}\\n\\\n",
    "корреляция Кендалла : {np.array(kendalltau_coefs).mean()}')"
   ]
  },
  {
   "cell_type": "code",
   "execution_count": null,
   "id": "00aad5c0-2798-4035-ac60-acbb1a2b8d96",
   "metadata": {},
   "outputs": [],
   "source": []
  },
  {
   "cell_type": "code",
   "execution_count": null,
   "id": "7418758e-ca45-4353-9202-132bf5478a76",
   "metadata": {},
   "outputs": [],
   "source": []
  },
  {
   "cell_type": "code",
   "execution_count": null,
   "id": "f38b3500-e347-4652-b47b-790ef741ac6b",
   "metadata": {},
   "outputs": [],
   "source": []
  },
  {
   "cell_type": "code",
   "execution_count": null,
   "id": "ad8e2fd0-37bd-427d-92b8-32f42f597195",
   "metadata": {},
   "outputs": [],
   "source": []
  },
  {
   "cell_type": "code",
   "execution_count": null,
   "id": "ae828391-3226-4fdf-b3a7-9c5c832d9139",
   "metadata": {},
   "outputs": [],
   "source": []
  }
 ],
 "metadata": {
  "kernelspec": {
   "display_name": "Python 3 (ipykernel)",
   "language": "python",
   "name": "python3"
  },
  "language_info": {
   "codemirror_mode": {
    "name": "ipython",
    "version": 3
   },
   "file_extension": ".py",
   "mimetype": "text/x-python",
   "name": "python",
   "nbconvert_exporter": "python",
   "pygments_lexer": "ipython3",
   "version": "3.9.12"
  }
 },
 "nbformat": 4,
 "nbformat_minor": 5
}
